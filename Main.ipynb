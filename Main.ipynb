{
 "cells": [
  {
   "cell_type": "code",
   "execution_count": 3,
   "metadata": {
    "collapsed": true
   },
   "outputs": [],
   "source": [
    "import pandas as pd\n",
    "import scipy as sp\n",
    "import numpy as np\n",
    "from matplotlib import pyplot as pp\n"
   ]
  },
  {
   "cell_type": "code",
   "execution_count": 12,
   "metadata": {},
   "outputs": [],
   "source": [
    "APPLE = pd.read_csv('Data/AAPL.csv')\n",
    "ADOBE = pd.read_csv('Data/ADBE.csv')\n",
    "GOOGLE = pd.read_csv('Data/GOOGL.csv')\n",
    "MICROSOFT = pd.read_csv('Data/MSFT.csv')\n",
    "NVIDIA = pd.read_csv('Data/NVDA.csv')\n",
    "SONY = pd.read_csv('Data/SNE.csv')\n",
    "Global = [APPLE, ADOBE, GOOGLE, MICROSOFT, NVIDIA, SONY]\n"
   ]
  },
  {
   "cell_type": "code",
   "execution_count": 14,
   "metadata": {},
   "outputs": [],
   "source": [
    "def show_high(df):\n",
    "    pp.plot(pd.to_datetime(df[\"date\"]), df[\"high\"])\n",
    "    pp.show()\n"
   ]
  },
  {
   "cell_type": "code",
   "execution_count": null,
   "metadata": {},
   "outputs": [],
   "source": [
    "show_high(APPLE)\n",
    "show_high(APPLE)"
   ]
  }
 ],
 "metadata": {
  "kernelspec": {
   "display_name": "Python 2",
   "language": "python",
   "name": "python2"
  },
  "language_info": {
   "codemirror_mode": {
    "name": "ipython",
    "version": 2
   },
   "file_extension": ".py",
   "mimetype": "text/x-python",
   "name": "python",
   "nbconvert_exporter": "python",
   "pygments_lexer": "ipython2",
   "version": "2.7.6"
  }
 },
 "nbformat": 4,
 "nbformat_minor": 0
}
